{
 "cells": [
  {
   "cell_type": "code",
   "execution_count": null,
   "id": "b98e3123",
   "metadata": {},
   "outputs": [],
   "source": [
    "import pandas as pd\n",
    "import psycopg2\n",
    "import uuid\n",
    "import bcrypt\n",
    "import string\n",
    "import random"
   ]
  },
  {
   "cell_type": "markdown",
   "id": "59494400",
   "metadata": {},
   "source": [
    "#### Clean data columns"
   ]
  },
  {
   "cell_type": "code",
   "execution_count": 4,
   "id": "d9d0a01e",
   "metadata": {},
   "outputs": [],
   "source": [
    "data = pd.read_csv('search.csv')"
   ]
  },
  {
   "cell_type": "code",
   "execution_count": 5,
   "id": "464e3c67",
   "metadata": {},
   "outputs": [],
   "source": [
    "# Build array of bachhas\n",
    "all_bachhas = []\n",
    "\n",
    "for index, row in data.iterrows():\n",
    "    bachhas_list = []\n",
    "    for i in range(12):\n",
    "        col_name = f'c[{i}]'\n",
    "        if col_name in row and pd.notna(row[col_name]):\n",
    "            try:\n",
    "                bachhas_list.append(int(row[col_name]))\n",
    "            except:\n",
    "                bachhas_list.append(row[col_name])\n",
    "    all_bachhas.append(bachhas_list)\n",
    "data['bachhas'] = all_bachhas\n"
   ]
  },
  {
   "cell_type": "code",
   "execution_count": 6,
   "id": "2af39b9d",
   "metadata": {},
   "outputs": [
    {
     "data": {
      "text/plain": [
       "Index(['_id', 'a', 'b', 'd', 'g', 'h', 'i', 'n', 'p', 'r', 'u', 's', 'c',\n",
       "       'bachhas'],\n",
       "      dtype='object')"
      ]
     },
     "execution_count": 6,
     "metadata": {},
     "output_type": "execute_result"
    }
   ],
   "source": [
    "# clean up extra cols\n",
    "data.drop(columns=data.columns[13:-2], inplace=True)\n",
    "data.drop(columns=[\"_id__baas_transaction\"], inplace=True)\n",
    "data.columns"
   ]
  },
  {
   "cell_type": "code",
   "execution_count": 12,
   "id": "30ff090f",
   "metadata": {},
   "outputs": [],
   "source": [
    "data.to_csv('clean_data.csv', index=False)"
   ]
  },
  {
   "cell_type": "code",
   "execution_count": null,
   "id": "d56e2907",
   "metadata": {},
   "outputs": [],
   "source": [
    "data_read = pd.read_csv('clean_data.csv', index_col=\"_id\")\n",
    "data_read.head()"
   ]
  },
  {
   "cell_type": "markdown",
   "id": "b7652e0c",
   "metadata": {},
   "source": [
    "### Save data into db"
   ]
  },
  {
   "cell_type": "code",
   "execution_count": 15,
   "id": "c9e92bed",
   "metadata": {},
   "outputs": [],
   "source": [
    "def generate_random_password(length = 10):\n",
    "    characters = string.ascii_letters + string.digits + string.punctuation\n",
    "    random_string = ''.join(random.choices(characters, k=length))\n",
    "    return random_string"
   ]
  },
  {
   "cell_type": "code",
   "execution_count": null,
   "id": "3178475b",
   "metadata": {},
   "outputs": [],
   "source": [
    "# Connect to PSQL\n",
    "from datetime import datetime\n",
    "\n",
    "\n",
    "conn = psycopg2.connect( # edit these to match the Locations table\n",
    "    dbname=\"compass\",\n",
    "    user=\"this_is_mjk\",\n",
    "    password=\"\",\n",
    "    host=\"\",\n",
    "    port=5432\n",
    ")\n",
    "cursor = conn.cursor()\n",
    "\n",
    "\n",
    "passwords = {}\n",
    "empty_email = []\n",
    "error_students = []\n",
    "\n",
    "for index, student in data.iterrows():\n",
    "    if not index % 100:\n",
    "        print(index)\n",
    "    user_id = str(uuid.uuid4())\n",
    "    password = generate_random_password()\n",
    "    passwords[student['i']] = password\n",
    "    if pd.isna(student['u']):\n",
    "        empty_email.append(student)\n",
    "        continue\n",
    "    try:\n",
    "        cursor.execute(\"\"\"\n",
    "            INSERT INTO users (\n",
    "                user_id,\n",
    "                email,\n",
    "                password,\n",
    "                is_verified,\n",
    "                role\n",
    "            )\n",
    "            VALUES (%s, %s, %s, %s, %s)\n",
    "        \"\"\", (\n",
    "            datetime.now(),                 # created_at\n",
    "            datetime.now(),                 # updated_at\n",
    "            None,                           # deleted_at\n",
    "            user_id,                        # user_id (uuid.UUID)\n",
    "            student['u'] + \"@iitk.ac.in\",   # email\n",
    "            bcrypt.hashpw(password.encode(),  bcrypt.gensalt()),\n",
    "            True,\n",
    "            50\n",
    "        ))\n",
    "        cursor.execute(\"\"\"\n",
    "            INSERT INTO profiles (\n",
    "                user_id,\n",
    "                name,\n",
    "                email,\n",
    "                roll_no,\n",
    "                dept,\n",
    "                course,\n",
    "                gender,\n",
    "                hall,\n",
    "                room_number,\n",
    "                home_town,\n",
    "                visibility,\n",
    "                bapu,\n",
    "                bachhas\n",
    "            )\n",
    "            VALUES (%s, %s, %s, %s, %s, %s, %s, %s, %s, %s, %s, %s, %s)\n",
    "        \"\"\", (\n",
    "            datetime.now(),                 # created_at\n",
    "            datetime.now(),                 # updated_at\n",
    "            None,                           # deleted_at\n",
    "            user_id,                        # user_id (uuid.UUID)\n",
    "            student[\"n\"],\n",
    "            student['u'] + \"@iitk.ac.in\",   # email\n",
    "            student[\"i\"],\n",
    "            student[\"d\"],\n",
    "            student[\"c\"],\n",
    "            student[\"g\"],\n",
    "            student[\"h\"],\n",
    "            student[\"r\"],\n",
    "            student[\"s\"],\n",
    "            student[\"a\"],\n",
    "            random.choice([True, False]),\n",
    "            student[\"bachhas\"],\n",
    "        ))\n",
    "        conn.commit()\n",
    "    except Exception as e:\n",
    "        conn.rollback()\n",
    "        error_students.append({\"s\": student, \"e\": e})\n",
    "        print(f\"Error on student: {student['n']} ({student['u']}). Reason: {e}\")\n",
    "        continue"
   ]
  },
  {
   "cell_type": "code",
   "execution_count": 18,
   "id": "abccc708",
   "metadata": {},
   "outputs": [],
   "source": [
    "conn.close()"
   ]
  },
  {
   "cell_type": "markdown",
   "id": "aec12202",
   "metadata": {},
   "source": [
    "### Save users with issues"
   ]
  },
  {
   "cell_type": "code",
   "execution_count": null,
   "id": "be86f108",
   "metadata": {},
   "outputs": [],
   "source": [
    "print(len(error_students), len(empty_email))"
   ]
  },
  {
   "cell_type": "code",
   "execution_count": null,
   "id": "a841f3e6",
   "metadata": {},
   "outputs": [],
   "source": [
    "pd.DataFrame(empty_email).to_csv(\"empty_email.csv\", index=False)\n",
    "len(empty_email)"
   ]
  },
  {
   "cell_type": "code",
   "execution_count": 30,
   "id": "5cf7ee35",
   "metadata": {},
   "outputs": [],
   "source": [
    "list = []\n",
    "for obj in error_students:\n",
    "    obj['s']['error'] = obj['e']\n",
    "    list.append(obj['s'])\n",
    "pd.DataFrame(list).to_csv(\"repeat.csv\", index=False)"
   ]
  }
 ],
 "metadata": {
  "kernelspec": {
   "display_name": "venv (3.13.5)",
   "language": "python",
   "name": "python3"
  },
  "language_info": {
   "codemirror_mode": {
    "name": "ipython",
    "version": 3
   },
   "file_extension": ".py",
   "mimetype": "text/x-python",
   "name": "python",
   "nbconvert_exporter": "python",
   "pygments_lexer": "ipython3",
   "version": "3.13.5"
  }
 },
 "nbformat": 4,
 "nbformat_minor": 5
}
